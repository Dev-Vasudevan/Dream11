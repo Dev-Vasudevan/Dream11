{
 "metadata": {
  "kernelspec": {
   "name": "python3",
   "language": "python",
   "display_name": "Python 3 (ipykernel)"
  },
  "language_info": {
   "name": "python",
   "version": "3.10.12",
   "mimetype": "text/x-python",
   "codemirror_mode": {
    "name": "ipython",
    "version": 3
   },
   "pygments_lexer": "ipython3",
   "nbconvert_exporter": "python",
   "file_extension": ".py"
  },
  "kaggle": {
   "accelerator": "none",
   "dataSources": [
    {
     "sourceId": 8406641,
     "sourceType": "datasetVersion",
     "datasetId": 5002574
    }
   ],
   "dockerImageVersionId": 30918,
   "isInternetEnabled": false,
   "language": "python",
   "sourceType": "notebook",
   "isGpuEnabled": false
  },
  "colab": {
   "name": "Dream11",
   "provenance": [],
   "gpuType": "T4"
  },
  "accelerator": "GPU"
 },
 "nbformat_minor": 0,
 "nbformat": 4,
 "cells": [
  {
   "source": [
    "\n",
    "import kagglehub\n",
    "from numpy import dtype\n",
    "\n",
    "dataset_path = kagglehub.dataset_download('sukhdayaldhanday/dream-11-fantasy-points-data-of-ipl-all-seasons')\n",
    "# dataset_path = '/home/dev/.cache/kagglehub/datasets/sukhdayaldhanday/dream-11-fantasy-points-data-of-ipl-all-seasons/versions/1'\n",
    "\n",
    "print('Data source import complete.')\n",
    "dataset_path"
   ],
   "metadata": {
    "id": "XpU36ApuUeW2",
    "outputId": "907d881e-a984-491c-a07d-d9f75205afb7",
    "colab": {
     "base_uri": "https://localhost:8080/",
     "height": 142
    },
    "ExecuteTime": {
     "end_time": "2025-04-02T08:21:44.754247Z",
     "start_time": "2025-04-02T08:21:43.825510Z"
    }
   },
   "cell_type": "code",
   "outputs": [
    {
     "name": "stderr",
     "output_type": "stream",
     "text": [
      "/home/dev/PycharmProjects/Dream11/.venv1/lib/python3.12/site-packages/tqdm/auto.py:21: TqdmWarning: IProgress not found. Please update jupyter and ipywidgets. See https://ipywidgets.readthedocs.io/en/stable/user_install.html\n",
      "  from .autonotebook import tqdm as notebook_tqdm\n"
     ]
    },
    {
     "name": "stdout",
     "output_type": "stream",
     "text": [
      "Data source import complete.\n"
     ]
    },
    {
     "data": {
      "text/plain": [
       "'/home/dev/.cache/kagglehub/datasets/sukhdayaldhanday/dream-11-fantasy-points-data-of-ipl-all-seasons/versions/1'"
      ]
     },
     "execution_count": 1,
     "metadata": {},
     "output_type": "execute_result"
    }
   ],
   "execution_count": 1
  },
  {
   "cell_type": "code",
   "source": [
    "\n",
    "\n",
    "import torch\n",
    "import torch.nn as nn\n",
    "import torch.optim as optim\n",
    "import pandas as pd\n",
    "import numpy as np\n",
    "from sklearn.preprocessing import StandardScaler, LabelEncoder\n",
    "from torch.utils.data import Dataset, DataLoader\n",
    "from collections import defaultdict\n",
    "import torch\n",
    "import torch.nn as nn\n",
    "import torch.optim as optim\n",
    "import pandas as pd\n",
    "import numpy as np\n",
    "import matplotlib.pyplot as plt\n",
    "from sklearn.preprocessing import OneHotEncoder, LabelEncoder, StandardScaler\n",
    "from torch.utils.data import Dataset, DataLoader\n",
    "from sklearn.preprocessing import MinMaxScaler\n",
    "\n"
   ],
   "metadata": {
    "trusted": true,
    "execution": {
     "iopub.status.busy": "2025-03-26T08:03:45.546223Z",
     "iopub.execute_input": "2025-03-26T08:03:45.546641Z",
     "iopub.status.idle": "2025-03-26T08:04:04.98597Z",
     "shell.execute_reply.started": "2025-03-26T08:03:45.546598Z",
     "shell.execute_reply": "2025-03-26T08:04:04.984369Z"
    },
    "id": "VABbRiFZUeW4",
    "outputId": "2ae648ea-65b9-4261-8ef1-eb62b1e0557f",
    "colab": {
     "base_uri": "https://localhost:8080/"
    },
    "ExecuteTime": {
     "end_time": "2025-04-02T08:21:49.727675Z",
     "start_time": "2025-04-02T08:21:44.796349Z"
    }
   },
   "outputs": [],
   "execution_count": 2
  },
  {
   "cell_type": "code",
   "source": [
    "\n",
    "class FantasyData(Dataset):\n",
    "    def __init__(self,device,df):\n",
    "        x,y= self.preprocess_batting(df)\n",
    "        self.x = x.to(device)\n",
    "        self.y = y.to(device)\n",
    "        self.device = device\n",
    "    def __len__(self):\n",
    "        return len(self.x)\n",
    "    def __getitem__(self, idx):\n",
    "        return self.x[idx], self.y[idx]\n",
    "\n",
    "    def transform_batting_data(self , df):\n",
    "\n",
    "        self.batter_data = {}\n",
    "        # Ensure the data is sorted by season and match_id\n",
    "        df = df[df['season'] > 2015]\n",
    "        # df = df.sort_values([\"season\", \"match_id\"]).reset_index(drop=True)\n",
    "\n",
    "        # Get all unique venues for one-hot encoding later\n",
    "        # unique_venues = sorted(df[\"venue\"].unique())\n",
    "\n",
    "        # List to store each row's transformed dictionary\n",
    "        transformed_rows = []\n",
    "\n",
    "        # Process each batter separately\n",
    "        for batter, group in df.groupby(\"fullName\"):\n",
    "            prev = -1\n",
    "            # Sort the batter's matches in chronological order\n",
    "            group = group.sort_values([\"season\", \"match_id\"]).reset_index(drop=True)\n",
    "            # List to keep track of previous match scores for this batter\n",
    "            previous_scores = []\n",
    "\n",
    "            # Iterate over the batter's matches\n",
    "            for i, row in group.iterrows():\n",
    "                current_season = row[\"season\"]\n",
    "\n",
    "                # Previous match score: last score in the list, if available\n",
    "                prev_match_score = previous_scores[-1] if previous_scores else None\n",
    "\n",
    "                # Previous 5 matches average points: average of last 5 scores\n",
    "                last_five = previous_scores[-5:] if previous_scores else []\n",
    "                prev_5_avg = sum(last_five) / len(last_five) if last_five else None\n",
    "\n",
    "                # Previous season average points: consider all matches of this batter with season < current_season\n",
    "                prev_season_scores = group[group[\"season\"] < current_season][\"Batting_FP\"].tolist()\n",
    "                prev_season_avg = sum(prev_season_scores) / len(prev_season_scores) if prev_season_scores else None\n",
    "\n",
    "                # Number of matches played so far (i.e. count of previous scores)\n",
    "                num_matches = len(previous_scores)\n",
    "\n",
    "                # One hot encode the venue for this match\n",
    "                # venue_encoding = {v: 1 if row[\"venue\"] == v else 0 for v in unique_venues}\n",
    "\n",
    "                # Create the dictionary for the current row\n",
    "                row_dict = {\n",
    "                    \"Batter name\": row[\"fullName\"],\n",
    "                    \"prev\": prev_match_score,\n",
    "                    \"prev5\": prev_5_avg,\n",
    "                    \"prevSSN\": prev_season_avg,\n",
    "                    \"num matches\": num_matches,\n",
    "                    \"venue\": row[\"venue\"],\n",
    "                    \"season\": current_season,\n",
    "                    \"Batting_FP\" : row[\"Batting_FP\"],\n",
    "                }\n",
    "                # row_dict.extend(venue_encoding)\n",
    "\n",
    "                transformed_rows.append(row_dict)\n",
    "                prev = row_dict\n",
    "                # Update the list of previous scores with the current match's score\n",
    "                previous_scores.append(row[\"Batting_FP\"])\n",
    "            self.batter_data[batter] = prev\n",
    "\n",
    "        return transformed_rows\n",
    "\n",
    "\n",
    "    def get_batting_data(self,name,venue , season ):\n",
    "        data = self.batter_data[name].copy()\n",
    "        data[\"venue\"] = [venue]\n",
    "        data[\"season\"] = [season]\n",
    "        data = pd.DataFrame(data)\n",
    "        data[\"Batting_FP\"] = [0]*len(data)\n",
    "        return self.preprocess_batting(data,False)\n",
    "\n",
    "    def preprocess_batting(self, df , train = True  ):\n",
    "        if train:\n",
    "            df  = pd.DataFrame(self.transform_batting_data(df))\n",
    "            self.temp = df\n",
    "\n",
    "\n",
    "        # Targets\n",
    "\n",
    "        y =  torch.tensor(\n",
    "            df[[\"Batting_FP\"]].values,\n",
    "            dtype=torch.float32\n",
    "        )\n",
    "\n",
    "        # Compute sums for each column\n",
    "        positive_sums = torch.sum(y * (y > 0), dim=0)  # Sum of positive values\n",
    "        negative_sums = torch.sum(-y * (y < 0), dim=0)  # Sum of negative values\n",
    "\n",
    "        # Avoid division by zero by adding a small epsilon\n",
    "        epsilon = 1e-8\n",
    "        scale_factors = positive_sums / (negative_sums + epsilon)\n",
    "        scale_factors = scale_factors.unsqueeze(0) * 0.05  # Shape: (1, 4)\n",
    "\n",
    "        # Apply scaling only to negative values (correct broadcasting)\n",
    "        y = torch.where(y < 0, y * scale_factors, y)\n",
    "        print(y.shape)\n",
    "\n",
    "\n",
    "\n",
    "\n",
    "\n",
    "\n",
    "        # 2. One-hot encode teams\n",
    "        if train :\n",
    "            self.venue_enc = OneHotEncoder(sparse_output=False)\n",
    "            venue = self.venue_enc.fit_transform(df[['venue']])\n",
    "            print(self.venue_enc)\n",
    "        else :\n",
    "\n",
    "            print([[df['venue']]])\n",
    "            venue = self.venue_enc.transform(df[['venue']])\n",
    "            print(venue)\n",
    "\n",
    "\n",
    "        # 3. Process season\n",
    "        if train :\n",
    "            self.scaler = MinMaxScaler()\n",
    "            season_scaled = self.scaler.fit_transform(df[['season']])\n",
    "        else :\n",
    "            season_scaled = self.scaler.transform(df[['season']])\n",
    "\n",
    "        # Convert to tensors and combine\n",
    "        season_tensor = torch.tensor(season_scaled, dtype=torch.float32)\n",
    "        venue_tensor = torch.tensor(venue, dtype=torch.float32)\n",
    "\n",
    "        prev = torch.tensor(df[[\"prev\"]].fillna(0).values, dtype=torch.float32)\n",
    "        prev5 = torch.tensor(df[[\"prev5\"]].fillna(0).values, dtype=torch.float32)\n",
    "        prevSSN = torch.tensor(df[[\"prevSSN\"]].fillna(0).values, dtype=torch.float32)\n",
    "        num_matches = torch.tensor(df[[\"num matches\"]].fillna(0).values, dtype=torch.float32)\n",
    "\n",
    "        x = torch.cat([\n",
    "            prev,\n",
    "            prev5,\n",
    "            prevSSN,\n",
    "            num_matches,\n",
    "            season_tensor,\n",
    "            venue_tensor,\n",
    "        ], dim=1)\n",
    "        # print(x.shape)\n",
    "\n",
    "        return x,y\n"
   ],
   "metadata": {
    "trusted": true,
    "id": "zffdBs07UeW4",
    "ExecuteTime": {
     "end_time": "2025-04-02T10:09:14.632264Z",
     "start_time": "2025-04-02T10:09:14.607844Z"
    }
   },
   "outputs": [],
   "execution_count": 180
  },
  {
   "cell_type": "code",
   "source": [
    "class Model(nn.Module):\n",
    "    def __init__(self):\n",
    "        super().__init__()\n",
    "        self.lin1 = nn.Linear(28,128,bias=True)\n",
    "        self.lin2 = nn.Linear(128,128,bias=True)\n",
    "        self.lin3 = nn.Linear(128,64,bias=True)\n",
    "        self.lin4 = nn.Linear(64,32,bias=True)\n",
    "        self.lin5 = nn.Linear(32,1,bias=True)\n",
    "        self.relu = nn.LeakyReLU()\n",
    "        self.sigmoid = nn.Sigmoid()\n",
    "    def forward(self,x):\n",
    "        x = self.lin1(x)\n",
    "        x = self.relu(x)\n",
    "        x = self.lin2(x)\n",
    "        x = self.sigmoid(x)\n",
    "        x = self.lin3(x)\n",
    "        x = self.relu(x)\n",
    "        x = self.lin4(x)\n",
    "        x = self.relu(x)\n",
    "        x = self.lin5(x)\n",
    "        # x = self.relu(x)\n",
    "        return x\n",
    "\n"
   ],
   "metadata": {
    "id": "RnknmfOUU8uZ",
    "ExecuteTime": {
     "end_time": "2025-04-02T10:09:14.893978Z",
     "start_time": "2025-04-02T10:09:14.885819Z"
    }
   },
   "outputs": [],
   "execution_count": 181
  },
  {
   "cell_type": "code",
   "source": [
    "def train(model, train_data_loader, optimizer, loss_fn):\n",
    "    total_loss = 0.0\n",
    "    model.train()  # Set the model to training mode\n",
    "\n",
    "    for data in train_data_loader:\n",
    "        inputs, labels = data  # Unpack inputs and labels\n",
    "        inputs = inputs.detach()\n",
    "        labels = labels.detach()\n",
    "        optimizer.zero_grad()  # Clear gradients from previous step\n",
    "\n",
    "        outputs = model(inputs)  # Forward pass\n",
    "        loss = loss_fn(outputs, labels)  # Compute loss\n",
    "\n",
    "        loss.backward()  # Backward pass (no need for retain_graph=True)\n",
    "        optimizer.step()  # Update weights\n",
    "\n",
    "        total_loss += loss.item()  # Accumulate loss\n",
    "\n",
    "    # Compute average loss over all batches\n",
    "    avg_loss = total_loss / len(train_data_loader)\n",
    "\n",
    "    return avg_loss\n"
   ],
   "metadata": {
    "id": "fXeDNhQlU_Su",
    "ExecuteTime": {
     "end_time": "2025-04-02T10:09:15.174118Z",
     "start_time": "2025-04-02T10:09:15.167181Z"
    }
   },
   "outputs": [],
   "execution_count": 182
  },
  {
   "metadata": {
    "ExecuteTime": {
     "end_time": "2025-04-02T10:09:15.851967Z",
     "start_time": "2025-04-02T10:09:15.844643Z"
    }
   },
   "cell_type": "code",
   "source": [
    "def evaluate(model, eval_data_loader ):\n",
    "    model.eval()  # Set model to evaluation mode\n",
    "    total_error = 0  # Assuming 4 output columns\n",
    "    total_samples = 0\n",
    "\n",
    "    with torch.no_grad():  # Disable gradient computation\n",
    "        for data in eval_data_loader:\n",
    "            inputs, labels = data\n",
    "            inputs = inputs.detach()\n",
    "            labels = labels.detach()\n",
    "\n",
    "            # Forward pass\n",
    "            outputs = model(inputs)\n",
    "\n",
    "            # Calculate squared error for each sample and each output\n",
    "            error = (outputs - labels)**2\n",
    "\n",
    "            # Sum errors across batches\n",
    "            total_error += error.sum(dim=0)\n",
    "            total_samples += labels.size(0)\n",
    "\n",
    "    # Calculate average error for each column\n",
    "    avg_error = total_error / total_samples\n",
    "\n",
    "    return torch.sqrt(avg_error)"
   ],
   "outputs": [],
   "execution_count": 183
  },
  {
   "cell_type": "code",
   "source": [
    "df = pd.read_csv(f'{dataset_path}/Batting_data.csv')\n",
    "device = torch.device(\"cuda\" if torch.cuda.is_available() else \"cpu\")\n",
    "data = FantasyData(device,df)\n",
    "# data.preprocess_batting(df)\n",
    "train_data_loader = DataLoader(data, batch_size=1024,shuffle=True)\n",
    "criterion  = nn.MSELoss()\n",
    "model = Model().to(device)\n",
    "optimizer = optim.AdamW(model.parameters(), lr=0.01)\n",
    "loss_list = []"
   ],
   "metadata": {
    "id": "lOj_O4-5VB0Q",
    "ExecuteTime": {
     "end_time": "2025-04-02T10:13:24.156153Z",
     "start_time": "2025-04-02T10:13:23.206328Z"
    }
   },
   "outputs": [
    {
     "name": "stdout",
     "output_type": "stream",
     "text": [
      "torch.Size([7808, 1])\n",
      "OneHotEncoder(sparse_output=False)\n"
     ]
    }
   ],
   "execution_count": 199
  },
  {
   "cell_type": "code",
   "source": [
    "epoch = 50\n",
    "count = 0\n",
    "prev = float('inf')\n",
    "model.train()\n",
    "for iter in range(epoch):\n",
    "\n",
    "    avg_loss = train(model, train_data_loader, optimizer, criterion)\n",
    "\n",
    "    if iter%20 ==0 :\n",
    "        if prev<avg_loss:\n",
    "            count+=1\n",
    "        # print(evaluate(model, train_data_loader) , avg_loss , iter )\n",
    "        prev = avg_loss\n",
    "    if iter%100==0:\n",
    "        print(avg_loss , iter )\n",
    "    loss_list.append(avg_loss)\n",
    "    if count > 30:\n",
    "        break\n",
    "print(avg_loss)\n",
    "plt.plot(loss_list)\n",
    "plt.title('Training Loss Over Epochs')\n",
    "plt.xlabel('Epochs')\n",
    "plt.ylabel('Loss')\n",
    "plt.show()\n",
    "\n"
   ],
   "metadata": {
    "id": "yg5ETIN7VDbi",
    "outputId": "b5567461-eb9d-4936-9d85-a797fad909fb",
    "colab": {
     "base_uri": "https://localhost:8080/"
    },
    "ExecuteTime": {
     "end_time": "2025-04-02T10:40:46.720787Z",
     "start_time": "2025-04-02T10:40:44.896775Z"
    }
   },
   "outputs": [
    {
     "name": "stdout",
     "output_type": "stream",
     "text": [
      "122.79840564727783 0\n",
      "78.1254243850708\n"
     ]
    },
    {
     "data": {
      "text/plain": [
       "<Figure size 640x480 with 1 Axes>"
      ],
      "image/png": "[encoded data removed]"
     },
     "metadata": {},
     "output_type": "display_data"
    }
   ],
   "execution_count": 235
  },
  {
   "cell_type": "code",
   "source": [
    "# evaluate(model, train_data_loader)\n",
    "torch.save(model.state_dict() ,\"batting_1.pth\")"
   ],
   "metadata": {
    "id": "TE9QDHN2VF_1",
    "ExecuteTime": {
     "end_time": "2025-04-02T10:18:14.474959Z",
     "start_time": "2025-04-02T10:18:14.471747Z"
    }
   },
   "outputs": [],
   "execution_count": 213
  },
  {
   "cell_type": "code",
   "source": "model.load_state_dict(torch.load(\"batting_1.pth\"))",
   "metadata": {
    "collapsed": false,
    "ExecuteTime": {
     "end_time": "2025-04-02T10:42:44.188134Z",
     "start_time": "2025-04-02T10:42:44.182614Z"
    }
   },
   "outputs": [
    {
     "data": {
      "text/plain": [
       "<All keys matched successfully>"
      ]
     },
     "execution_count": 240,
     "metadata": {},
     "output_type": "execute_result"
    }
   ],
   "execution_count": 240
  },
  {
   "metadata": {
    "ExecuteTime": {
     "end_time": "2025-04-02T10:43:56.947040Z",
     "start_time": "2025-04-02T10:43:56.912730Z"
    }
   },
   "cell_type": "code",
   "source": "evaluate(model , DataLoader([data.get_batting_data(\"Chris Gale\",'Wankhede Stadium, Mumbai',2023)  ]))",
   "outputs": [
    {
     "ename": "KeyError",
     "evalue": "'Chris Gale'",
     "output_type": "error",
     "traceback": [
      "\u001B[31m---------------------------------------------------------------------------\u001B[39m",
      "\u001B[31mKeyError\u001B[39m                                  Traceback (most recent call last)",
      "\u001B[36mCell\u001B[39m\u001B[36m \u001B[39m\u001B[32mIn[244]\u001B[39m\u001B[32m, line 1\u001B[39m\n\u001B[32m----> \u001B[39m\u001B[32m1\u001B[39m evaluate(model , DataLoader([\u001B[43mdata\u001B[49m\u001B[43m.\u001B[49m\u001B[43mget_batting_data\u001B[49m\u001B[43m(\u001B[49m\u001B[33;43m\"\u001B[39;49m\u001B[33;43mChris Gale\u001B[39;49m\u001B[33;43m\"\u001B[39;49m\u001B[43m,\u001B[49m\u001B[33;43m'\u001B[39;49m\u001B[33;43mWankhede Stadium, Mumbai\u001B[39;49m\u001B[33;43m'\u001B[39;49m\u001B[43m,\u001B[49m\u001B[32;43m2023\u001B[39;49m\u001B[43m)\u001B[49m  ]))\n",
      "\u001B[36mCell\u001B[39m\u001B[36m \u001B[39m\u001B[32mIn[180]\u001B[39m\u001B[32m, line 77\u001B[39m, in \u001B[36mFantasyData.get_batting_data\u001B[39m\u001B[34m(self, name, venue, season)\u001B[39m\n\u001B[32m     76\u001B[39m \u001B[38;5;28;01mdef\u001B[39;00m\u001B[38;5;250m \u001B[39m\u001B[34mget_batting_data\u001B[39m(\u001B[38;5;28mself\u001B[39m,name,venue , season ):\n\u001B[32m---> \u001B[39m\u001B[32m77\u001B[39m     data = \u001B[38;5;28;43mself\u001B[39;49m\u001B[43m.\u001B[49m\u001B[43mbatter_data\u001B[49m\u001B[43m[\u001B[49m\u001B[43mname\u001B[49m\u001B[43m]\u001B[49m.copy()\n\u001B[32m     78\u001B[39m     data[\u001B[33m\"\u001B[39m\u001B[33mvenue\u001B[39m\u001B[33m\"\u001B[39m] = [venue]\n\u001B[32m     79\u001B[39m     data[\u001B[33m\"\u001B[39m\u001B[33mseason\u001B[39m\u001B[33m\"\u001B[39m] = [season]\n",
      "\u001B[31mKeyError\u001B[39m: 'Chris Gale'"
     ]
    }
   ],
   "execution_count": 244
  },
  {
   "cell_type": "code",
   "source": "evaluate(model, train_data_loader)\n",
   "metadata": {
    "collapsed": false,
    "ExecuteTime": {
     "end_time": "2025-04-02T10:42:55.148212Z",
     "start_time": "2025-04-02T10:42:55.112770Z"
    }
   },
   "outputs": [
    {
     "data": {
      "text/plain": [
       "tensor([10.4129])"
      ]
     },
     "execution_count": 243,
     "metadata": {},
     "output_type": "execute_result"
    }
   ],
   "execution_count": 243
  },
  {
   "metadata": {},
   "cell_type": "markdown",
   "source": ""
  }
 ]
}
