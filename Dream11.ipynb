{
 "metadata": {
  "kernelspec": {
   "name": "python3",
   "language": "python",
   "display_name": "Python 3 (ipykernel)"
  },
  "language_info": {
   "name": "python",
   "version": "3.10.12",
   "mimetype": "text/x-python",
   "codemirror_mode": {
    "name": "ipython",
    "version": 3
   },
   "pygments_lexer": "ipython3",
   "nbconvert_exporter": "python",
   "file_extension": ".py"
  },
  "kaggle": {
   "accelerator": "none",
   "dataSources": [
    {
     "sourceId": 8406641,
     "sourceType": "datasetVersion",
     "datasetId": 5002574
    }
   ],
   "dockerImageVersionId": 30918,
   "isInternetEnabled": false,
   "language": "python",
   "sourceType": "notebook",
   "isGpuEnabled": false
  },
  "colab": {
   "name": "Dream11",
   "provenance": [],
   "gpuType": "T4"
  },
  "accelerator": "GPU"
 },
 "nbformat_minor": 0,
 "nbformat": 4,
 "cells": [
  {
   "source": [
    "\n",
    "import kagglehub\n",
    "dataset_path = kagglehub.dataset_download('sukhdayaldhanday/dream-11-fantasy-points-data-of-ipl-all-seasons')\n",
    "\n",
    "print('Data source import complete.')\n",
    "dataset_path"
   ],
   "metadata": {
    "id": "XpU36ApuUeW2",
    "outputId": "907d881e-a984-491c-a07d-d9f75205afb7",
    "colab": {
     "base_uri": "https://localhost:8080/",
     "height": 142
    },
    "ExecuteTime": {
     "end_time": "2025-03-28T02:11:00.294271300Z",
     "start_time": "2025-03-28T02:10:58.983329500Z"
    }
   },
   "cell_type": "code",
   "outputs": [
    {
     "name": "stdout",
     "output_type": "stream",
     "text": [
      "Data source import complete.\n"
     ]
    },
    {
     "data": {
      "text/plain": "'C:\\\\Users\\\\Avinash\\\\.cache\\\\kagglehub\\\\datasets\\\\sukhdayaldhanday\\\\dream-11-fantasy-points-data-of-ipl-all-seasons\\\\versions\\\\1'"
     },
     "execution_count": 1,
     "metadata": {},
     "output_type": "execute_result"
    }
   ],
   "execution_count": 1
  },
  {
   "cell_type": "code",
   "source": [
    "\n",
    "\n",
    "import torch\n",
    "import torch.nn as nn\n",
    "import torch.optim as optim\n",
    "import pandas as pd\n",
    "import numpy as np\n",
    "from sklearn.preprocessing import StandardScaler, LabelEncoder\n",
    "from torch.utils.data import Dataset, DataLoader\n",
    "from collections import defaultdict\n",
    "import torch\n",
    "import torch.nn as nn\n",
    "import torch.optim as optim\n",
    "import pandas as pd\n",
    "import numpy as np\n",
    "import matplotlib.pyplot as plt\n",
    "from sklearn.preprocessing import OneHotEncoder, LabelEncoder, StandardScaler\n",
    "from torch.utils.data import Dataset, DataLoader\n",
    "from sklearn.preprocessing import MinMaxScaler\n",
    "\n"
   ],
   "metadata": {
    "trusted": true,
    "execution": {
     "iopub.status.busy": "2025-03-26T08:03:45.546223Z",
     "iopub.execute_input": "2025-03-26T08:03:45.546641Z",
     "iopub.status.idle": "2025-03-26T08:04:04.98597Z",
     "shell.execute_reply.started": "2025-03-26T08:03:45.546598Z",
     "shell.execute_reply": "2025-03-26T08:04:04.984369Z"
    },
    "id": "VABbRiFZUeW4",
    "outputId": "2ae648ea-65b9-4261-8ef1-eb62b1e0557f",
    "colab": {
     "base_uri": "https://localhost:8080/"
    },
    "ExecuteTime": {
     "end_time": "2025-03-28T02:11:07.181784100Z",
     "start_time": "2025-03-28T02:11:01.331496700Z"
    }
   },
   "outputs": [
    {
     "name": "stderr",
     "output_type": "stream",
     "text": [
      "C:\\Users\\Avinash\\AppData\\Local\\Programs\\Python\\Python310\\lib\\site-packages\\torch\\utils\\_pytree.py:185: FutureWarning: optree is installed but the version is too old to support PyTorch Dynamo in C++ pytree. C++ pytree support is disabled. Please consider upgrading optree using `python3 -m pip install --upgrade 'optree>=0.13.0'`.\n",
      "  warnings.warn(\n"
     ]
    }
   ],
   "execution_count": 2
  },
  {
   "cell_type": "code",
   "source": [
    "\n",
    "class FantasyData(Dataset):\n",
    "    def __init__(self, df,device):\n",
    "        self.x, self.y = self.preprocess_data(df)\n",
    "        self.device = device\n",
    "    def __len__(self):\n",
    "        return len(self.x)\n",
    "    def __getitem__(self, idx):\n",
    "        return self.x[idx].to(self.device), self.y[idx].to(self.device)\n",
    "    def proc_new_data(self,df):\n",
    "        teams = self.team_enc.transform(df[['venue']])\n",
    "\n",
    "        fullname_idx = self.le.fit_transform(df['fullName'])\n",
    "\n",
    "        season_scaled = self.scaler.transform(df[['season']])\n",
    "        season_tensor = torch.tensor(season_scaled, dtype=torch.float32)\n",
    "        teams_tensor = torch.tensor(teams, dtype=torch.float32)\n",
    "        name_indices = torch.tensor(fullname_idx, dtype=torch.long)\n",
    "        name_embeddings = self.fullname_embedding(name_indices)\n",
    "\n",
    "        # Final features [season + teams + embeddings]\n",
    "        x = torch.cat([\n",
    "            season_tensor,\n",
    "            teams_tensor,\n",
    "            name_embeddings\n",
    "        ], dim=1)\n",
    "        return x\n",
    "\n",
    "    def preprocess_data(self, df):\n",
    "        # Targets\n",
    "        y = torch.tensor(\n",
    "            df[['Batting_FP', 'Bowling_FP', 'Fielding_FP', 'Total_FP']].values,\n",
    "            dtype=torch.float32\n",
    "        )\n",
    "        print(y)\n",
    "        # Compute sums for each column\n",
    "        positive_sums = torch.sum(y * (y > 0), dim=0)  # Sum of positive values\n",
    "        negative_sums = torch.sum(-y * (y < 0), dim=0)  # Sum of negative values\n",
    "\n",
    "        # Avoid division by zero by adding a small epsilon\n",
    "        epsilon = 1e-8\n",
    "        scale_factors = positive_sums / (negative_sums + epsilon)\n",
    "        scale_factors = scale_factors.unsqueeze(0) * 0.05  # Shape: (1, 4)\n",
    "\n",
    "        # Apply scaling only to negative values (correct broadcasting)\n",
    "        y = torch.where(y < 0, y * scale_factors, y)\n",
    "        print(y)\n",
    "\n",
    "\n",
    "\n",
    "        # 1. Encode fullName\n",
    "        self.le = LabelEncoder()\n",
    "        fullname_idx = self.le.fit_transform(df['fullName'])\n",
    "        self.fullname_embedding = nn.Embedding(\n",
    "            num_embeddings=len(self.le.classes_),\n",
    "            embedding_dim=16\n",
    "        )\n",
    "\n",
    "        # 2. One-hot encode teams\n",
    "        self.team_enc = OneHotEncoder(sparse_output=False)\n",
    "        teams = self.team_enc.fit_transform(df[['venue']])\n",
    "\n",
    "        # 3. Process season\n",
    "        self.scaler = MinMaxScaler()\n",
    "        season_scaled = self.scaler.fit_transform(df[['season']])\n",
    "\n",
    "        # Convert to tensors and combine\n",
    "        season_tensor = torch.tensor(season_scaled, dtype=torch.float32)\n",
    "        teams_tensor = torch.tensor(teams, dtype=torch.float32)\n",
    "        name_indices = torch.tensor(fullname_idx, dtype=torch.long)\n",
    "        name_embeddings = self.fullname_embedding(name_indices)\n",
    "\n",
    "        # Final features [season + teams + embeddings]\n",
    "        x = torch.cat([\n",
    "            season_tensor,\n",
    "            teams_tensor,\n",
    "            name_embeddings\n",
    "        ], dim=1)\n",
    "        print(x.shape)\n",
    "        return x,y\n",
    "\n",
    "\n",
    "\n",
    "\n"
   ],
   "metadata": {
    "trusted": true,
    "id": "zffdBs07UeW4",
    "ExecuteTime": {
     "end_time": "2025-03-28T03:17:34.637242700Z",
     "start_time": "2025-03-28T03:17:34.610927700Z"
    }
   },
   "outputs": [],
   "execution_count": 60
  },
  {
   "cell_type": "code",
   "source": [
    "class Model(nn.Module):\n",
    "    def __init__(self):\n",
    "        super().__init__()\n",
    "        self.lin1 = nn.Linear(54,64,bias=True)\n",
    "        self.lin2 = nn.Linear(64,32,bias=True)\n",
    "        # self.lin3 = nn.Linear(128,64,bias=True)\n",
    "        # self.lin4 = nn.Linear(64,32,bias=True)\n",
    "        self.lin5 = nn.Linear(32,4,bias=True)\n",
    "        self.relu = nn.ReLU()\n",
    "        self.sigmoid = nn.Sigmoid()\n",
    "    def forward(self,x):\n",
    "        x = self.lin1(x)\n",
    "        x = self.relu(x)\n",
    "        x = self.lin2(x)\n",
    "        x = self.sigmoid(x)\n",
    "        # x = self.lin3(x)\n",
    "        # x = self.relu(x)\n",
    "        # x = self.lin4(x)\n",
    "        # x = self.relu(x)\n",
    "        x = self.lin5(x)\n",
    "        # x = self.relu(x)\n",
    "        return x\n",
    "\n"
   ],
   "metadata": {
    "id": "RnknmfOUU8uZ",
    "ExecuteTime": {
     "end_time": "2025-03-28T03:10:50.665555Z",
     "start_time": "2025-03-28T03:10:50.638292600Z"
    }
   },
   "execution_count": 50,
   "outputs": []
  },
  {
   "cell_type": "code",
   "source": [
    "def train(model, train_data_loader, optimizer, loss_fn):\n",
    "    total_loss = 0.0\n",
    "    model.train()  # Set the model to training mode\n",
    "\n",
    "    for data in train_data_loader:\n",
    "        inputs, labels = data  # Unpack inputs and labels\n",
    "        inputs = inputs.detach()\n",
    "        labels = labels.detach()\n",
    "        optimizer.zero_grad()  # Clear gradients from previous step\n",
    "\n",
    "        outputs = model(inputs)  # Forward pass\n",
    "        loss = loss_fn(outputs, labels)  # Compute loss\n",
    "\n",
    "        loss.backward()  # Backward pass (no need for retain_graph=True)\n",
    "        optimizer.step()  # Update weights\n",
    "\n",
    "        total_loss += loss.item()  # Accumulate loss\n",
    "\n",
    "    # Compute average loss over all batches\n",
    "    avg_loss = total_loss / len(train_data_loader)\n",
    "\n",
    "    return avg_loss\n"
   ],
   "metadata": {
    "id": "fXeDNhQlU_Su",
    "ExecuteTime": {
     "end_time": "2025-03-28T03:10:51.467196200Z",
     "start_time": "2025-03-28T03:10:51.445913900Z"
    }
   },
   "execution_count": 51,
   "outputs": []
  },
  {
   "cell_type": "code",
   "source": [
    "df = pd.read_csv(f'{dataset_path}/Final_Fantasy_data.csv')\n",
    "device = torch.device(\"cuda\" if torch.cuda.is_available() else \"cpu\")\n",
    "data = FantasyData(df,device)\n",
    "train_data_loader = DataLoader(data, batch_size=1024,shuffle=True)\n",
    "criterion  = nn.MSELoss()\n",
    "model = Model().to(device)\n",
    "optimizer = optim.AdamW(model.parameters(), lr=0.1)\n",
    "loss_list = []"
   ],
   "metadata": {
    "id": "lOj_O4-5VB0Q",
    "ExecuteTime": {
     "end_time": "2025-03-28T03:18:55.309227700Z",
     "start_time": "2025-03-28T03:18:55.229428100Z"
    }
   },
   "execution_count": 65,
   "outputs": [
    {
     "name": "stdout",
     "output_type": "stream",
     "text": [
      "tensor([[130.,   0.,   0., 134.],\n",
      "        [  0.,  83.,   8.,  95.],\n",
      "        [ 71.,   0.,   0.,  75.],\n",
      "        ...,\n",
      "        [  1.,   0.,   0.,   5.],\n",
      "        [  0.,   0.,   0.,   4.],\n",
      "        [ -2.,   0.,   0.,   2.]])\n",
      "tensor([[130.0000,   0.0000,   0.0000, 134.0000],\n",
      "        [  0.0000,  83.0000,   8.0000,  95.0000],\n",
      "        [ 71.0000,   0.0000,   0.0000,  75.0000],\n",
      "        ...,\n",
      "        [  1.0000,   0.0000,   0.0000,   5.0000],\n",
      "        [  0.0000,   0.0000,   0.0000,   4.0000],\n",
      "        [-17.7037,   0.0000,   0.0000,   2.0000]])\n",
      "torch.Size([22362, 54])\n"
     ]
    }
   ]
  },
  {
   "cell_type": "code",
   "source": [
    "epoch = 500\n",
    "\n",
    "model.train()\n",
    "for iter in range(epoch):\n",
    "\n",
    "    avg_loss = train(model, train_data_loader, optimizer, criterion)\n",
    "\n",
    "    if iter%25 == 0  :\n",
    "        print(iter,avg_loss)\n",
    "        loss_list.append(avg_loss)\n",
    "\n",
    "plt.plot(loss_list)\n",
    "plt.title('Training Loss Over Epochs')\n",
    "plt.xlabel('Epochs')\n",
    "plt.ylabel('Loss')\n",
    "plt.show()\n",
    "\n"
   ],
   "metadata": {
    "id": "yg5ETIN7VDbi",
    "outputId": "b5567461-eb9d-4936-9d85-a797fad909fb",
    "colab": {
     "base_uri": "https://localhost:8080/"
    },
    "ExecuteTime": {
     "end_time": "2025-03-28T03:22:54.555564Z",
     "start_time": "2025-03-28T03:18:56.721102200Z"
    }
   },
   "execution_count": 66,
   "outputs": [
    {
     "name": "stdout",
     "output_type": "stream",
     "text": [
      "0 864.5441422895951\n",
      "25 723.402607310902\n",
      "50 705.5946266867898\n",
      "75 695.1240484064275\n",
      "100 685.4908613725142\n",
      "125 682.2353682084517\n",
      "150 678.5051158558239\n",
      "175 674.0546653053977\n",
      "200 668.4822138006037\n",
      "225 661.1647255637429\n",
      "250 661.7649369673295\n",
      "275 661.171777898615\n",
      "300 657.3740789240056\n",
      "325 651.5600336248225\n",
      "350 652.0627025257457\n",
      "375 648.4611261541194\n",
      "400 645.8229148171165\n",
      "425 641.7513039328835\n",
      "450 634.4623329856179\n",
      "475 633.6255576393821\n"
     ]
    },
    {
     "data": {
      "text/plain": "<Figure size 640x480 with 1 Axes>",
      "image/png": "[encoded data removed]"
     },
     "metadata": {},
     "output_type": "display_data"
    }
   ]
  },
  {
   "cell_type": "code",
   "source": [
    "test_data = {\n",
    "    \"fullName\": [\"MS Dhoni\", \"Virat Kohli\",\"Virat Kohli\",\"Jasprit Bumrah\"],\n",
    "    \"season\": [2023, 2025,2023,2022],\n",
    "    \"venue\":['MA Chidambaram Stadium, Chepauk, Chennai',\"M.Chinnaswamy Stadium, Bengaluru\",\"Wankhede Stadium, Mumbai\",\"Wankhede Stadium, Mumbai\"]\n",
    "}\n",
    "\n",
    "test = pd.DataFrame(test_data)\n",
    "test"
   ],
   "metadata": {
    "id": "TE9QDHN2VF_1",
    "ExecuteTime": {
     "end_time": "2025-03-28T03:27:10.330181100Z",
     "start_time": "2025-03-28T03:27:10.298175200Z"
    }
   },
   "execution_count": 79,
   "outputs": [
    {
     "data": {
      "text/plain": "         fullName  season                                     venue\n0        MS Dhoni    2023  MA Chidambaram Stadium, Chepauk, Chennai\n1     Virat Kohli    2025          M.Chinnaswamy Stadium, Bengaluru\n2     Virat Kohli    2023                  Wankhede Stadium, Mumbai\n3  Jasprit Bumrah    2022                  Wankhede Stadium, Mumbai",
      "text/html": "<div>\n<style scoped>\n    .dataframe tbody tr th:only-of-type {\n        vertical-align: middle;\n    }\n\n    .dataframe tbody tr th {\n        vertical-align: top;\n    }\n\n    .dataframe thead th {\n        text-align: right;\n    }\n</style>\n<table border=\"1\" class=\"dataframe\">\n  <thead>\n    <tr style=\"text-align: right;\">\n      <th></th>\n      <th>fullName</th>\n      <th>season</th>\n      <th>venue</th>\n    </tr>\n  </thead>\n  <tbody>\n    <tr>\n      <th>0</th>\n      <td>MS Dhoni</td>\n      <td>2023</td>\n      <td>MA Chidambaram Stadium, Chepauk, Chennai</td>\n    </tr>\n    <tr>\n      <th>1</th>\n      <td>Virat Kohli</td>\n      <td>2025</td>\n      <td>M.Chinnaswamy Stadium, Bengaluru</td>\n    </tr>\n    <tr>\n      <th>2</th>\n      <td>Virat Kohli</td>\n      <td>2023</td>\n      <td>Wankhede Stadium, Mumbai</td>\n    </tr>\n    <tr>\n      <th>3</th>\n      <td>Jasprit Bumrah</td>\n      <td>2022</td>\n      <td>Wankhede Stadium, Mumbai</td>\n    </tr>\n  </tbody>\n</table>\n</div>"
     },
     "execution_count": 79,
     "metadata": {},
     "output_type": "execute_result"
    }
   ]
  },
  {
   "cell_type": "code",
   "execution_count": 80,
   "outputs": [],
   "source": [
    "test_data_1 = data.proc_new_data(test)"
   ],
   "metadata": {
    "collapsed": false,
    "ExecuteTime": {
     "end_time": "2025-03-28T03:27:12.812282900Z",
     "start_time": "2025-03-28T03:27:12.774684400Z"
    }
   }
  },
  {
   "cell_type": "code",
   "execution_count": 81,
   "outputs": [
    {
     "name": "stdout",
     "output_type": "stream",
     "text": [
      "[6.429708480834961, 22.969247817993164, 3.082127332687378, 34.457916259765625]\n",
      "[25.42748260498047, -2.8234195709228516, 3.705024242401123, 30.39336585998535]\n",
      "[18.675914764404297, -1.4707671403884888, 3.3883097171783447, 23.222179412841797]\n",
      "[35.82118225097656, 2.559929132461548, 6.305749893188477, 51.87611389160156]\n"
     ]
    }
   ],
   "source": [
    "model.eval()\n",
    "for item in test_data_1:\n",
    "    print([float(_) for _ in model(item)])"
   ],
   "metadata": {
    "collapsed": false,
    "ExecuteTime": {
     "end_time": "2025-03-28T03:27:14.710889900Z",
     "start_time": "2025-03-28T03:27:14.666904500Z"
    }
   }
  },
  {
   "cell_type": "code",
   "execution_count": 33,
   "outputs": [],
   "source": [
    "#Do not re run this\n",
    "torch.save(model.state_dict() ,\"model.pth\")"
   ],
   "metadata": {
    "collapsed": false,
    "ExecuteTime": {
     "end_time": "2025-03-28T02:40:49.833300200Z",
     "start_time": "2025-03-28T02:40:49.792255800Z"
    }
   }
  },
  {
   "cell_type": "code",
   "execution_count": 145,
   "outputs": [
    {
     "name": "stdout",
     "output_type": "stream",
     "text": [
      "cpu\n"
     ]
    }
   ],
   "source": [
    "print(device)"
   ],
   "metadata": {
    "collapsed": false,
    "ExecuteTime": {
     "end_time": "2025-03-27T19:23:58.291348Z",
     "start_time": "2025-03-27T19:23:58.272349100Z"
    }
   }
  },
  {
   "cell_type": "code",
   "execution_count": 146,
   "outputs": [
    {
     "data": {
      "text/plain": "device(type='cpu')"
     },
     "execution_count": 146,
     "metadata": {},
     "output_type": "execute_result"
    }
   ],
   "source": [
    "torch.device(\"cuda\" if torch.cuda.is_available() else \"cpu\")\n"
   ],
   "metadata": {
    "collapsed": false,
    "ExecuteTime": {
     "end_time": "2025-03-27T19:24:00.231826900Z",
     "start_time": "2025-03-27T19:24:00.205828100Z"
    }
   }
  },
  {
   "cell_type": "code",
   "execution_count": 18,
   "outputs": [
    {
     "data": {
      "text/plain": "False"
     },
     "execution_count": 18,
     "metadata": {},
     "output_type": "execute_result"
    }
   ],
   "source": [
    "torch.cuda.is_available()"
   ],
   "metadata": {
    "collapsed": false,
    "ExecuteTime": {
     "end_time": "2025-03-27T18:10:43.491777600Z",
     "start_time": "2025-03-27T18:10:43.391265700Z"
    }
   }
  },
  {
   "cell_type": "code",
   "execution_count": 19,
   "outputs": [
    {
     "name": "stdout",
     "output_type": "stream",
     "text": [
      "2.6.0+cpu\n",
      "None\n"
     ]
    }
   ],
   "source": [
    "print(torch.__version__)\n",
    "print(torch.version.cuda)"
   ],
   "metadata": {
    "collapsed": false,
    "ExecuteTime": {
     "end_time": "2025-03-27T18:10:43.491777600Z",
     "start_time": "2025-03-27T18:10:43.454776500Z"
    }
   }
  },
  {
   "cell_type": "code",
   "execution_count": 54,
   "outputs": [
    {
     "data": {
      "text/plain": "     season  match_id match_name home_team away_team  \\\n19     2023   1370353   GT v CSK        GT       CSK   \n80     2023   1370350   CSK v GT       CSK        GT   \n176    2023   1359541   DC v CSK        DC       CSK   \n319    2023   1359535  CSK v KKR       CSK       KKR   \n456    2023   1359529   CSK v DC       CSK        DC   \n\n                                        venue  batting_innings  \\\n19   Narendra Modi Stadium, Motera, Ahmedabad                2   \n80   MA Chidambaram Stadium, Chepauk, Chennai                1   \n176               Arun Jaitley Stadium, Delhi                1   \n319  MA Chidambaram Stadium, Chepauk, Chennai                1   \n456  MA Chidambaram Stadium, Chepauk, Chennai                1   \n\n     bowling_innings  fullName  Starting_11  Batting_FP  Bowling_FP  \\\n19                 1  MS Dhoni            4          -2           0   \n80                 2  MS Dhoni            4           1           0   \n176                2  MS Dhoni            4           5           0   \n319                2  MS Dhoni            4           2           0   \n456                2  MS Dhoni            4          25           0   \n\n     Fielding_FP  Total_FP  Dream Team  Captain  Vice Captain  \n19            20        22           0        0             0  \n80             0         5           0        0             0  \n176            0         9           0        0             0  \n319            0         6           0        0             0  \n456            0        29           0        0             0  ",
      "text/html": "<div>\n<style scoped>\n    .dataframe tbody tr th:only-of-type {\n        vertical-align: middle;\n    }\n\n    .dataframe tbody tr th {\n        vertical-align: top;\n    }\n\n    .dataframe thead th {\n        text-align: right;\n    }\n</style>\n<table border=\"1\" class=\"dataframe\">\n  <thead>\n    <tr style=\"text-align: right;\">\n      <th></th>\n      <th>season</th>\n      <th>match_id</th>\n      <th>match_name</th>\n      <th>home_team</th>\n      <th>away_team</th>\n      <th>venue</th>\n      <th>batting_innings</th>\n      <th>bowling_innings</th>\n      <th>fullName</th>\n      <th>Starting_11</th>\n      <th>Batting_FP</th>\n      <th>Bowling_FP</th>\n      <th>Fielding_FP</th>\n      <th>Total_FP</th>\n      <th>Dream Team</th>\n      <th>Captain</th>\n      <th>Vice Captain</th>\n    </tr>\n  </thead>\n  <tbody>\n    <tr>\n      <th>19</th>\n      <td>2023</td>\n      <td>1370353</td>\n      <td>GT v CSK</td>\n      <td>GT</td>\n      <td>CSK</td>\n      <td>Narendra Modi Stadium, Motera, Ahmedabad</td>\n      <td>2</td>\n      <td>1</td>\n      <td>MS Dhoni</td>\n      <td>4</td>\n      <td>-2</td>\n      <td>0</td>\n      <td>20</td>\n      <td>22</td>\n      <td>0</td>\n      <td>0</td>\n      <td>0</td>\n    </tr>\n    <tr>\n      <th>80</th>\n      <td>2023</td>\n      <td>1370350</td>\n      <td>CSK v GT</td>\n      <td>CSK</td>\n      <td>GT</td>\n      <td>MA Chidambaram Stadium, Chepauk, Chennai</td>\n      <td>1</td>\n      <td>2</td>\n      <td>MS Dhoni</td>\n      <td>4</td>\n      <td>1</td>\n      <td>0</td>\n      <td>0</td>\n      <td>5</td>\n      <td>0</td>\n      <td>0</td>\n      <td>0</td>\n    </tr>\n    <tr>\n      <th>176</th>\n      <td>2023</td>\n      <td>1359541</td>\n      <td>DC v CSK</td>\n      <td>DC</td>\n      <td>CSK</td>\n      <td>Arun Jaitley Stadium, Delhi</td>\n      <td>1</td>\n      <td>2</td>\n      <td>MS Dhoni</td>\n      <td>4</td>\n      <td>5</td>\n      <td>0</td>\n      <td>0</td>\n      <td>9</td>\n      <td>0</td>\n      <td>0</td>\n      <td>0</td>\n    </tr>\n    <tr>\n      <th>319</th>\n      <td>2023</td>\n      <td>1359535</td>\n      <td>CSK v KKR</td>\n      <td>CSK</td>\n      <td>KKR</td>\n      <td>MA Chidambaram Stadium, Chepauk, Chennai</td>\n      <td>1</td>\n      <td>2</td>\n      <td>MS Dhoni</td>\n      <td>4</td>\n      <td>2</td>\n      <td>0</td>\n      <td>0</td>\n      <td>6</td>\n      <td>0</td>\n      <td>0</td>\n      <td>0</td>\n    </tr>\n    <tr>\n      <th>456</th>\n      <td>2023</td>\n      <td>1359529</td>\n      <td>CSK v DC</td>\n      <td>CSK</td>\n      <td>DC</td>\n      <td>MA Chidambaram Stadium, Chepauk, Chennai</td>\n      <td>1</td>\n      <td>2</td>\n      <td>MS Dhoni</td>\n      <td>4</td>\n      <td>25</td>\n      <td>0</td>\n      <td>0</td>\n      <td>29</td>\n      <td>0</td>\n      <td>0</td>\n      <td>0</td>\n    </tr>\n  </tbody>\n</table>\n</div>"
     },
     "execution_count": 54,
     "metadata": {},
     "output_type": "execute_result"
    }
   ],
   "source": [
    "df[df['fullName']==\"MS Dhoni\"].head()\n"
   ],
   "metadata": {
    "collapsed": false,
    "ExecuteTime": {
     "end_time": "2025-03-28T03:14:58.279366800Z",
     "start_time": "2025-03-28T03:14:58.226378900Z"
    }
   }
  },
  {
   "cell_type": "code",
   "execution_count": 56,
   "outputs": [
    {
     "data": {
      "text/plain": "array(['Narendra Modi Stadium, Motera, Ahmedabad',\n       'MA Chidambaram Stadium, Chepauk, Chennai',\n       'M.Chinnaswamy Stadium, Bengaluru', 'Wankhede Stadium, Mumbai',\n       'Eden Gardens, Kolkata', 'Arun Jaitley Stadium, Delhi',\n       'Himachal Pradesh Cricket Association Stadium, Dharamsala',\n       'Rajiv Gandhi International Stadium, Uppal, Hyderabad',\n       'Bharat Ratna Shri Atal Bihari Vajpayee Ekana Cricket Stadium, Lucknow',\n       'Sawai Mansingh Stadium, Jaipur',\n       'Punjab Cricket Association IS Bindra Stadium, Mohali, Chandigarh',\n       'Barsapara Cricket Stadium, Guwahati', 'Brabourne Stadium, Mumbai',\n       'Dr DY Patil Sports Academy, Navi Mumbai',\n       'Maharashtra Cricket Association Stadium, Pune',\n       'Dubai International Cricket Stadium', 'Sharjah Cricket Stadium',\n       'Sheikh Zayed Stadium, Abu Dhabi',\n       'Dr. Y.S. Rajasekhara Reddy ACA-VDCA Cricket Stadium, Visakhapatnam',\n       'Holkar Cricket Stadium, Indore', 'Green Park, Kanpur',\n       'Saurashtra Cricket Association Stadium, Rajkot',\n       'Shaheed Veer Narayan Singh International Stadium, Raipur',\n       'JSCA International Stadium Complex, Ranchi',\n       'Sardar Patel (Gujarat) Stadium, Motera, Ahmedabad',\n       'Barabati Stadium, Cuttack', 'Dr DY Patil Sports Academy, Mumbai',\n       'Nehru Stadium, Kochi',\n       'Vidarbha Cricket Association Stadium, Jamtha, Nagpur',\n       'The Wanderers Stadium, Johannesburg',\n       'SuperSport Park, Centurion', 'Kingsmead, Durban',\n       'Mangaung Oval, Bloemfontein', \"St George's Park, Port Elizabeth\",\n       'Diamond Oval, Kimberley', 'Buffalo Park, East London',\n       'Newlands, Cape Town'], dtype=object)"
     },
     "execution_count": 56,
     "metadata": {},
     "output_type": "execute_result"
    }
   ],
   "source": [
    "df['venue'].unique()"
   ],
   "metadata": {
    "collapsed": false,
    "ExecuteTime": {
     "end_time": "2025-03-28T03:16:04.575666300Z",
     "start_time": "2025-03-28T03:16:04.539061700Z"
    }
   }
  },
  {
   "cell_type": "code",
   "execution_count": null,
   "outputs": [],
   "source": [],
   "metadata": {
    "collapsed": false
   }
  }
 ]
}
