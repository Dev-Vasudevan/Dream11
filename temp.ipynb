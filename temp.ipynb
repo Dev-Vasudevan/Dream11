{
 "metadata": {
  "kernelspec": {
   "name": "python3",
   "language": "python",
   "display_name": "Python 3 (ipykernel)"
  },
  "language_info": {
   "name": "python",
   "version": "3.10.12",
   "mimetype": "text/x-python",
   "codemirror_mode": {
    "name": "ipython",
    "version": 3
   },
   "pygments_lexer": "ipython3",
   "nbconvert_exporter": "python",
   "file_extension": ".py"
  },
  "kaggle": {
   "accelerator": "none",
   "dataSources": [
    {
     "sourceId": 8406641,
     "sourceType": "datasetVersion",
     "datasetId": 5002574
    }
   ],
   "dockerImageVersionId": 30918,
   "isInternetEnabled": false,
   "language": "python",
   "sourceType": "notebook",
   "isGpuEnabled": false
  },
  "colab": {
   "name": "Dream11",
   "provenance": [],
   "gpuType": "T4"
  },
  "accelerator": "GPU"
 },
 "nbformat_minor": 0,
 "nbformat": 4,
 "cells": [
  {
   "source": [
    "\n",
    "import kagglehub\n",
    "from numpy import dtype\n",
    "\n",
    "dataset_path = kagglehub.dataset_download('sukhdayaldhanday/dream-11-fantasy-points-data-of-ipl-all-seasons')\n",
    "# dataset_path = '/home/dev/.cache/kagglehub/datasets/sukhdayaldhanday/dream-11-fantasy-points-data-of-ipl-all-seasons/versions/1'\n",
    "\n",
    "print('Data source import complete.')\n",
    "dataset_path"
   ],
   "metadata": {
    "id": "XpU36ApuUeW2",
    "outputId": "907d881e-a984-491c-a07d-d9f75205afb7",
    "colab": {
     "base_uri": "https://localhost:8080/",
     "height": 142
    },
    "ExecuteTime": {
     "end_time": "2025-04-05T09:33:48.763803Z",
     "start_time": "2025-04-05T09:33:48.018752Z"
    }
   },
   "cell_type": "code",
   "outputs": [
    {
     "name": "stdout",
     "output_type": "stream",
     "text": [
      "Warning: Looks like you're using an outdated `kagglehub` version (installed: 0.3.10), please consider upgrading to the latest version (0.3.11).\n",
      "Data source import complete.\n"
     ]
    },
    {
     "data": {
      "text/plain": [
       "'/home/dev/.cache/kagglehub/datasets/sukhdayaldhanday/dream-11-fantasy-points-data-of-ipl-all-seasons/versions/1'"
      ]
     },
     "execution_count": 21,
     "metadata": {},
     "output_type": "execute_result"
    }
   ],
   "execution_count": 21
  },
  {
   "cell_type": "code",
   "source": [
    "\n",
    "\n",
    "import torch\n",
    "import torch.nn as nn\n",
    "import torch.optim as optim\n",
    "import pandas as pd\n",
    "import matplotlib.pyplot as plt\n",
    "from sklearn.preprocessing import OneHotEncoder\n",
    "from torch.utils.data import Dataset, DataLoader\n",
    "from sklearn.preprocessing import MinMaxScaler\n",
    "\n"
   ],
   "metadata": {
    "trusted": true,
    "execution": {
     "iopub.status.busy": "2025-03-26T08:03:45.546223Z",
     "iopub.execute_input": "2025-03-26T08:03:45.546641Z",
     "iopub.status.idle": "2025-03-26T08:04:04.98597Z",
     "shell.execute_reply.started": "2025-03-26T08:03:45.546598Z",
     "shell.execute_reply": "2025-03-26T08:04:04.984369Z"
    },
    "id": "VABbRiFZUeW4",
    "outputId": "2ae648ea-65b9-4261-8ef1-eb62b1e0557f",
    "colab": {
     "base_uri": "https://localhost:8080/"
    },
    "ExecuteTime": {
     "end_time": "2025-04-05T09:33:49.583252Z",
     "start_time": "2025-04-05T09:33:49.578760Z"
    }
   },
   "outputs": [],
   "execution_count": 22
  },
  {
   "metadata": {
    "ExecuteTime": {
     "end_time": "2025-04-05T10:17:47.888445Z",
     "start_time": "2025-04-05T10:17:47.885497Z"
    }
   },
   "cell_type": "code",
   "source": [
    "class Data(Dataset):\n",
    "    def __init__(self,xy,device):\n",
    "        self.x = xy[0].to(device)\n",
    "        self.y = xy[1].to(device)\n",
    "    def __len__(self):\n",
    "        return len(self.x)\n",
    "\n",
    "    def __getitem__(self, idx):\n",
    "        return self.x[idx], self.y[idx]"
   ],
   "outputs": [],
   "execution_count": 69
  },
  {
   "cell_type": "code",
   "source": [
    "\n",
    "class FantasyData(Dataset):\n",
    "    def __init__(self,bat,bowl):\n",
    "\n",
    "        self.batting , self.bowling = self.transform_data(self.join_data(bat,bowl))\n",
    "\n",
    "    def __len__(self):\n",
    "        return len(self.x)\n",
    "    def __getitem__(self, idx):\n",
    "        return self.x[idx], self.y[idx]\n",
    "    def join_data(self,batting,bowling):\n",
    "        batting.drop(['bowling_team','batting_team','batting_innings' , 'batting_position'],axis=1,inplace=True)\n",
    "        bowling.drop(['bowling_team','batting_team','bowling_innings' , 'total_balls', 'dots', 'maidens', 'conceded', 'foursConceded',\n",
    "       'sixesConceded','wides', 'noballs', 'LBW',\n",
    "       'Hitwicket', 'CaughtBowled', 'Bowled'],axis=1,inplace=True)\n",
    "        return pd.merge(batting, bowling,  how='outer')\n",
    "    def transform_data(self , df , bowling = True  , batting = True ):\n",
    "        self.bowler_data = {}\n",
    "        self.batter_data = {}\n",
    "        df = df[df['season'] > 2015]\n",
    "\n",
    "        batting_transformed_rows = []\n",
    "        bowling_transformed_rows = []\n",
    "\n",
    "        # Process each batter separately\n",
    "        for player, group in df.groupby(\"fullName\"):\n",
    "            batting_prev = -1\n",
    "            bowling_prev = -1\n",
    "            # Sort the batter's matches in chronological order\n",
    "            group = group.sort_values([\"season\", \"match_id\"]).reset_index(drop=True)\n",
    "            # List to keep track of previous match scores for this batter\n",
    "            batting_previous_scores = []\n",
    "            bowling_previous_scores = []\n",
    "\n",
    "            # Iterate over the batter's matches\n",
    "            for i, row in group.iterrows():\n",
    "                current_season = row[\"season\"]\n",
    "                num_matches = i\n",
    "\n",
    "                if batting:\n",
    "                    # Previous match score: last score in the list, if available\n",
    "                    batting_prev_match_score = batting_previous_scores[-1] if batting_previous_scores else None\n",
    "\n",
    "                    # Previous 5 matches average points: average of last 5 scores\n",
    "                    last_five = batting_previous_scores[-5:] if batting_previous_scores else []\n",
    "                    batting_prev_5_avg = sum(last_five) / len(last_five) if last_five else None\n",
    "\n",
    "                    # Previous season average points: consider all matches of this batter with season < current_season\n",
    "                    batting_prev_season_scores = group[group[\"season\"] < current_season][\"Batting_FP\"].tolist()\n",
    "                    batting_prev_season_avg = sum(batting_prev_season_scores) / len(batting_prev_season_scores) if batting_prev_season_scores else None\n",
    "\n",
    "                    batting_row_dict = {\n",
    "                    \"Batter name\": row[\"fullName\"],\n",
    "                    \"batting_prev\": batting_prev_match_score,\n",
    "                    \"batting_prev5\": batting_prev_5_avg,\n",
    "                    \"batting_prevSSN\": batting_prev_season_avg,\n",
    "                    \"num matches\": num_matches,\n",
    "                    \"venue\": row[\"venue\"],\n",
    "                    \"season\": current_season,\n",
    "                    \"Batting_FP\" : row[\"Batting_FP\"],\n",
    "                    }\n",
    "                # row_dict.extend(venue_encoding)\n",
    "\n",
    "                    batting_transformed_rows.append(batting_row_dict)\n",
    "                    batting_prev = batting_row_dict\n",
    "                    batting_previous_scores.append(row[\"Batting_FP\"])\n",
    "                # Bowling Data\n",
    "\n",
    "\n",
    "                if bowling:\n",
    "                    bowling_prev_match_fp = bowling_previous_scores[-1] if bowling_previous_scores else None\n",
    "\n",
    "                    # Previous 5 matches average Bowling_FP: average of last 5 scores\n",
    "                    last_five = bowling_previous_scores[-5:] if bowling_previous_scores else []\n",
    "                    bowling_prev_5_avg_fp = sum(last_five) / len(last_five) if last_five else None\n",
    "                    num_matches = len(bowling_previous_scores)\n",
    "\n",
    "                    # Previous season average Bowling_FP: consider all matches of this bowler with season < current_season\n",
    "                    bowling_prev_season_scores = group[group[\"season\"] < current_season][\"Bowling_FP\"].tolist()\n",
    "                    bowling_prev_season_avg_fp = sum(bowling_prev_season_scores) / len(bowling_prev_season_scores) if bowling_prev_season_scores else None\n",
    "\n",
    "\n",
    "\n",
    "\n",
    "\n",
    "\n",
    "\n",
    "                # Create the dictionary for the current row\n",
    "\n",
    "\n",
    "                    bowling_row_dict = {\n",
    "                        \"Bowler name\": row[\"fullName\"],\n",
    "                        \"venue\": row[\"venue\"],\n",
    "                        \"bowling_prev\": bowling_prev_match_fp,\n",
    "                        \"bowling_prev5\": bowling_prev_5_avg_fp,\n",
    "                        \"bowling_prevSSN\": bowling_prev_season_avg_fp,\n",
    "                        \"season\": current_season,\n",
    "                        \"num matches\": num_matches,\n",
    "                        \"Bowling_FP\": row[\"Bowling_FP\"],\n",
    "\n",
    "                    }\n",
    "\n",
    "                    bowling_transformed_rows.append(bowling_row_dict)\n",
    "                    bowling_prev = bowling_row_dict\n",
    "\n",
    "                    # Update the list of previous scores with the current match's Bowling_FP\n",
    "                    bowling_previous_scores.append(row[\"Bowling_FP\"])\n",
    "            self.batter_data[player] = batting_prev\n",
    "            self.bowler_data[player] = bowling_prev\n",
    "\n",
    "\n",
    "        return pd.DataFrame(batting_transformed_rows),pd.DataFrame(bowling_transformed_rows)\n",
    "\n",
    "\n",
    "    def get_batting_data(self,name,venue , season ):\n",
    "        data = self.batter_data[name].copy()\n",
    "        data[\"venue\"] = [venue]\n",
    "        data[\"season\"] = [season]\n",
    "        data = pd.DataFrame(data)\n",
    "        data[\"Batting_FP\"] = [0]*len(data)\n",
    "        return self.preprocess_batting(data,False)\n",
    "\n",
    "    def get_bowling_data(self,name,venue , season ):\n",
    "        data = self.bowler_data[name].copy()\n",
    "        data[\"venue\"] = [venue]\n",
    "        data[\"season\"] = [season]\n",
    "        data = pd.DataFrame(data)\n",
    "        data[\"Bowling_FP\"] = [0]*len(data)\n",
    "        return self.preprocess_bowling(data,False)\n",
    "    # Assumes transformed data\n",
    "    def preprocess_batting(self, df , train = True  ):\n",
    "        # Targets\n",
    "        print(df.columns)\n",
    "        y =  torch.tensor(\n",
    "            df[[\"Batting_FP\"]].fillna(0).values,\n",
    "            dtype=torch.float32\n",
    "        )\n",
    "\n",
    "        # Compute sums for each column\n",
    "        positive_sums = torch.sum(y * (y > 0), dim=0)  # Sum of positive values\n",
    "        negative_sums = torch.sum(-y * (y < 0), dim=0)  # Sum of negative values\n",
    "\n",
    "        # Avoid division by zero by adding a small epsilon\n",
    "        epsilon = 1e-8\n",
    "        scale_factors = positive_sums / (negative_sums + epsilon)\n",
    "        scale_factors = scale_factors.unsqueeze(0) * 0.05  # Shape: (1, 4)\n",
    "\n",
    "        # Apply scaling only to negative values (correct broadcasting)\n",
    "        y = torch.where(y < 0, y * scale_factors, y)\n",
    "        print(y.shape)\n",
    "\n",
    "\n",
    "\n",
    "\n",
    "\n",
    "\n",
    "        # 2. One-hot encode teams\n",
    "        if train :\n",
    "            self.venue_enc = OneHotEncoder(sparse_output=False)\n",
    "            venue = self.venue_enc.fit_transform(df[['venue']])\n",
    "            print(self.venue_enc)\n",
    "        else :\n",
    "\n",
    "            print([[df['venue']]])\n",
    "            venue = self.venue_enc.transform(df[['venue']])\n",
    "            print(venue)\n",
    "\n",
    "\n",
    "        # 3. Process season\n",
    "        if train :\n",
    "            self.scaler = MinMaxScaler()\n",
    "            season_scaled = self.scaler.fit_transform(df[['season']])\n",
    "        else :\n",
    "            season_scaled = self.scaler.transform(df[['season']])\n",
    "\n",
    "        # Convert to tensors and combine\n",
    "        season_tensor = torch.tensor(season_scaled, dtype=torch.float32)\n",
    "        venue_tensor = torch.tensor(venue, dtype=torch.float32)\n",
    "\n",
    "        batting_prev = torch.tensor(df[[\"batting_prev\"]].fillna(0).values, dtype=torch.float32)\n",
    "        batting_prev5 = torch.tensor(df[[\"batting_prev5\"]].fillna(0).values, dtype=torch.float32)\n",
    "        batting_prevSSN = torch.tensor(df[[\"batting_prevSSN\"]].fillna(0).values, dtype=torch.float32)\n",
    "        if train:\n",
    "            self.scaler_matches = MinMaxScaler()\n",
    "            matches_scaled = self.scaler_matches.fit_transform(df[['num matches']].fillna(0))\n",
    "        else:\n",
    "            matches_scaled = self.scaler_matches.transform(df[['num matches']])\n",
    "\n",
    "        num_matches = torch.tensor(matches_scaled, dtype=torch.float32)\n",
    "\n",
    "        x = torch.cat([\n",
    "            batting_prev,\n",
    "            batting_prev5,\n",
    "            batting_prevSSN,\n",
    "            num_matches,\n",
    "            season_tensor,\n",
    "            venue_tensor,\n",
    "        ], dim=1)\n",
    "        # print(x.shape)\n",
    "\n",
    "        return x,y\n",
    "    def preprocess_bowling(self, df,train = True):\n",
    "\n",
    "\n",
    "        # Targets (Bowling_FP)\n",
    "        y = torch.tensor(\n",
    "            df[[\"Bowling_FP\"]].fillna(0).values,\n",
    "            dtype=torch.float32\n",
    "        )\n",
    "\n",
    "        # Compute sums for scaling negative values\n",
    "        positive_sums = torch.sum(y * (y > 0), dim=0)  # Sum of positive values\n",
    "        negative_sums = torch.sum(-y * (y < 0), dim=0)  # Sum of negative values\n",
    "\n",
    "        epsilon = 1e-8  # Avoid division by zero\n",
    "        scale_factors = positive_sums / (negative_sums + epsilon)\n",
    "        scale_factors = scale_factors.unsqueeze(0) * 0.05\n",
    "\n",
    "        y = torch.where(y < 0, y * scale_factors, y)\n",
    "\n",
    "        # One-hot encode venues\n",
    "        if train:\n",
    "            self.venue_enc = OneHotEncoder(sparse_output=False)\n",
    "            venue_encoded = self.venue_enc.fit_transform(df[['venue']])\n",
    "        else:\n",
    "            venue_encoded = self.venue_enc.transform(df[['venue']])\n",
    "\n",
    "        venue_tensor = torch.tensor(venue_encoded, dtype=torch.float32)\n",
    "\n",
    "        # Scale seasons using MinMaxScaler\n",
    "        if train:\n",
    "            self.scaler = MinMaxScaler()\n",
    "            season_scaled = self.scaler.fit_transform(df[['season']])\n",
    "        else:\n",
    "            season_scaled = self.scaler.transform(df[['season']])\n",
    "\n",
    "        season_tensor = torch.tensor(season_scaled, dtype=torch.float32)\n",
    "\n",
    "\n",
    "        bowling_prev_tensor = torch.tensor(df[[\"bowling_prev\"]].fillna(0).values, dtype=torch.float32)\n",
    "        bowling_prev5_tensor = torch.tensor(df[[\"bowling_prev5\"]].fillna(0).values, dtype=torch.float32)\n",
    "        bowling_prevSSN_tensor = torch.tensor(df[[\"bowling_prevSSN\"]].fillna(0).values, dtype=torch.float32)\n",
    "        if train:\n",
    "            self.scaler_matches = MinMaxScaler()\n",
    "            matches_scaled = self.scaler_matches.fit_transform(df[['num matches']].fillna(0))\n",
    "        else:\n",
    "            matches_scaled = self.scaler_matches.transform(df[['num matches']])\n",
    "\n",
    "        season_tensor = torch.tensor(season_scaled, dtype=torch.float32)\n",
    "        num_matches = torch.tensor(matches_scaled, dtype=torch.float32)\n",
    "\n",
    "        # Combine all features into a single tensor (x)\n",
    "        x = torch.cat([\n",
    "\n",
    "            bowling_prev_tensor,\n",
    "            bowling_prev5_tensor,\n",
    "            bowling_prevSSN_tensor,\n",
    "            num_matches,\n",
    "            season_tensor,\n",
    "            venue_tensor,\n",
    "        ], dim=1)\n",
    "\n",
    "        return x, y\n",
    "\n"
   ],
   "metadata": {
    "trusted": true,
    "id": "zffdBs07UeW4",
    "ExecuteTime": {
     "end_time": "2025-04-05T10:29:50.077959Z",
     "start_time": "2025-04-05T10:29:50.064299Z"
    }
   },
   "outputs": [],
   "execution_count": 100
  },
  {
   "cell_type": "code",
   "source": [
    "class Model(nn.Module):\n",
    "    def __init__(self):\n",
    "        super().__init__()\n",
    "        self.lin1 = nn.Linear(28,128,bias=True)\n",
    "        self.lin2 = nn.Linear(128,128,bias=True)\n",
    "        self.lin3 = nn.Linear(128,64,bias=True)\n",
    "        self.lin4 = nn.Linear(64,32,bias=True)\n",
    "        self.lin5 = nn.Linear(32,1,bias=True)\n",
    "        self.relu = nn.LeakyReLU()\n",
    "        self.sigmoid = nn.Sigmoid()\n",
    "    def forward(self,x):\n",
    "        x = self.lin1(x)\n",
    "        x = self.relu(x)\n",
    "        x = self.lin2(x)\n",
    "        x = self.sigmoid(x)\n",
    "        x = self.lin3(x)\n",
    "        x = self.relu(x)\n",
    "        x = self.lin4(x)\n",
    "        x = self.relu(x)\n",
    "        x = self.lin5(x)\n",
    "        # x = self.relu(x)\n",
    "        return x\n",
    "\n"
   ],
   "metadata": {
    "id": "RnknmfOUU8uZ",
    "ExecuteTime": {
     "end_time": "2025-04-05T10:29:53.427453Z",
     "start_time": "2025-04-05T10:29:53.424291Z"
    }
   },
   "outputs": [],
   "execution_count": 101
  },
  {
   "metadata": {
    "ExecuteTime": {
     "end_time": "2025-04-05T10:29:53.982353Z",
     "start_time": "2025-04-05T10:29:53.980799Z"
    }
   },
   "cell_type": "code",
   "source": "",
   "outputs": [],
   "execution_count": null
  },
  {
   "cell_type": "code",
   "source": [
    "def train(model, train_data_loader, optimizer, loss_fn):\n",
    "    total_loss = 0.0\n",
    "    model.train()  # Set the model to training mode\n",
    "\n",
    "    for data in train_data_loader:\n",
    "        inputs, labels = data  # Unpack inputs and labels\n",
    "        inputs = inputs.detach()\n",
    "        labels = labels.detach()\n",
    "        optimizer.zero_grad()  # Clear gradients from previous step\n",
    "\n",
    "        outputs = model(inputs)  # Forward pass\n",
    "        loss = loss_fn(outputs, labels)  # Compute loss\n",
    "\n",
    "        loss.backward()  # Backward pass (no need for retain_graph=True)\n",
    "        optimizer.step()  # Update weights\n",
    "\n",
    "        total_loss += loss.item()  # Accumulate loss\n",
    "\n",
    "    # Compute average loss over all batches\n",
    "    avg_loss = total_loss / len(train_data_loader)\n",
    "\n",
    "    return avg_loss\n"
   ],
   "metadata": {
    "id": "fXeDNhQlU_Su",
    "ExecuteTime": {
     "end_time": "2025-04-05T10:29:54.645428Z",
     "start_time": "2025-04-05T10:29:54.641447Z"
    }
   },
   "outputs": [],
   "execution_count": 102
  },
  {
   "metadata": {
    "ExecuteTime": {
     "end_time": "2025-04-05T10:29:55.307299Z",
     "start_time": "2025-04-05T10:29:55.304823Z"
    }
   },
   "cell_type": "code",
   "source": [
    "def evaluate(model, eval_data_loader ):\n",
    "    model.eval()  # Set model to evaluation mode\n",
    "    total_error = 0  # Assuming 4 output columns\n",
    "    total_samples = 0\n",
    "\n",
    "    with torch.no_grad():  # Disable gradient computation\n",
    "        for data in eval_data_loader:\n",
    "            inputs, labels = data\n",
    "            inputs = inputs.detach()\n",
    "            labels = labels.detach()\n",
    "\n",
    "            # Forward pass\n",
    "            outputs = model(inputs)\n",
    "\n",
    "            # Calculate squared error for each sample and each output\n",
    "            error = (outputs - labels)**2\n",
    "\n",
    "            # Sum errors across batches\n",
    "            total_error += error.sum(dim=0)\n",
    "            total_samples += labels.size(0)\n",
    "\n",
    "    # Calculate average error for each column\n",
    "    avg_error = total_error / total_samples\n",
    "\n",
    "    return torch.sqrt(avg_error)"
   ],
   "outputs": [],
   "execution_count": 103
  },
  {
   "cell_type": "code",
   "source": [
    "batting = pd.read_csv(f'{dataset_path}/Batting_data.csv')\n",
    "bowling = pd.read_csv(f'{dataset_path}/Bowling_data.csv')\n",
    "device = torch.device(\"cuda\" if torch.cuda.is_available() else \"cpu\")\n",
    "data = FantasyData(batting,bowling)\n",
    "batting_data = Data(data.preprocess_batting(data.batting),device)\n",
    "batting_train_data_loader = DataLoader(batting_data, batch_size=1024,shuffle=True)\n",
    "\n",
    "criterion  = nn.MSELoss()\n",
    "batting_model = Model().to(device)\n",
    "optimizer = optim.AdamW(batting_model.parameters(), lr=0.01)\n",
    "loss_list = []"
   ],
   "metadata": {
    "id": "lOj_O4-5VB0Q",
    "ExecuteTime": {
     "end_time": "2025-04-05T10:29:58.209264Z",
     "start_time": "2025-04-05T10:29:55.950089Z"
    }
   },
   "outputs": [
    {
     "name": "stdout",
     "output_type": "stream",
     "text": [
      "Index(['Batter name', 'batting_prev', 'batting_prev5', 'batting_prevSSN',\n",
      "       'num matches', 'venue', 'season', 'Batting_FP'],\n",
      "      dtype='object')\n",
      "torch.Size([10935, 1])\n",
      "OneHotEncoder(sparse_output=False)\n"
     ]
    }
   ],
   "execution_count": 104
  },
  {
   "metadata": {
    "ExecuteTime": {
     "end_time": "2025-04-05T10:35:48.591688Z",
     "start_time": "2025-04-05T10:35:48.578952Z"
    }
   },
   "cell_type": "code",
   "source": [
    "bowling_data = Data(data.preprocess_bowling(data.bowling),device)\n",
    "bowling_train_data_loader = DataLoader(bowling_data, batch_size=1024,shuffle=True)\n",
    "bowling_model = Model().to(device)"
   ],
   "outputs": [],
   "execution_count": 116
  },
  {
   "cell_type": "code",
   "source": [
    "def training_loop(model, train_data_loader, optimizer, criterion = nn.MSELoss(), loss_list=[] ):\n",
    "    epoch = 650\n",
    "    count = 0\n",
    "    prev = float('inf')\n",
    "    model.train()\n",
    "    for iter in range(epoch):\n",
    "\n",
    "        avg_loss = train(model, train_data_loader, optimizer, criterion)\n",
    "\n",
    "        if iter%20 ==0 :\n",
    "            if prev<avg_loss:\n",
    "                count+=1\n",
    "             # , avg_loss , iter )\n",
    "            prev = avg_loss\n",
    "        if iter%100==0:\n",
    "            print(avg_loss , iter )\n",
    "            print(evaluate(model, train_data_loader))\n",
    "        loss_list.append(avg_loss)\n",
    "        if count > 30:\n",
    "            break\n",
    "    print(avg_loss)\n",
    "    plt.plot(loss_list)\n",
    "    plt.title('Training Loss Over Epochs')\n",
    "    plt.xlabel('Epochs')\n",
    "    plt.ylabel('Loss')\n",
    "    plt.show()\n",
    "    print(evaluate(model, train_data_loader))\n"
   ],
   "metadata": {
    "id": "yg5ETIN7VDbi",
    "outputId": "b5567461-eb9d-4936-9d85-a797fad909fb",
    "colab": {
     "base_uri": "https://localhost:8080/"
    },
    "ExecuteTime": {
     "end_time": "2025-04-05T10:36:14.576163Z",
     "start_time": "2025-04-05T10:36:14.571090Z"
    }
   },
   "outputs": [],
   "execution_count": 118
  },
  {
   "metadata": {
    "ExecuteTime": {
     "end_time": "2025-04-05T10:37:26.173487Z",
     "start_time": "2025-04-05T10:36:55.056787Z"
    }
   },
   "cell_type": "code",
   "source": "training_loop(bowling_model, bowling_train_data_loader, optim.AdamW(bowling_model.parameters(), lr=0.01))",
   "outputs": [
    {
     "name": "stdout",
     "output_type": "stream",
     "text": [
      "734.0319935191761 0\n",
      "tensor([24.8830])\n",
      "484.20279208096593 100\n",
      "tensor([21.5858])\n",
      "375.4730502041903 200\n",
      "tensor([19.1947])\n",
      "308.4139612371271 300\n",
      "tensor([17.0148])\n",
      "256.5311931263317 400\n",
      "tensor([15.6956])\n",
      "227.31254993785512 500\n",
      "tensor([14.4876])\n",
      "221.18834339488637 600\n",
      "tensor([14.1196])\n",
      "195.62422735040838\n"
     ]
    },
    {
     "data": {
      "text/plain": [
       "<Figure size 640x480 with 1 Axes>"
      ],
      "image/png": "[encoded data removed]"
     },
     "metadata": {},
     "output_type": "display_data"
    },
    {
     "name": "stdout",
     "output_type": "stream",
     "text": [
      "tensor([13.7538])\n"
     ]
    }
   ],
   "execution_count": 119
  },
  {
   "cell_type": "code",
   "source": [
    "# evaluate(model, batting_train_data_loader)\n",
    "torch.save(bowling_model.state_dict(), \"models/bowling_new.pth\")"
   ],
   "metadata": {
    "id": "TE9QDHN2VF_1",
    "ExecuteTime": {
     "end_time": "2025-04-05T10:32:03.805778Z",
     "start_time": "2025-04-05T10:32:03.802768Z"
    }
   },
   "outputs": [],
   "execution_count": 114
  },
  {
   "cell_type": "code",
   "source": "# model.load_state_dict(torch.load(\"models/batting_new.pth\"))",
   "metadata": {
    "collapsed": false,
    "ExecuteTime": {
     "end_time": "2025-04-05T10:22:21.066401Z",
     "start_time": "2025-04-05T10:22:21.062594Z"
    }
   },
   "outputs": [
    {
     "data": {
      "text/plain": [
       "<All keys matched successfully>"
      ]
     },
     "execution_count": 84,
     "metadata": {},
     "output_type": "execute_result"
    }
   ],
   "execution_count": 84
  },
  {
   "metadata": {
    "ExecuteTime": {
     "end_time": "2025-04-05T10:38:23.377603Z",
     "start_time": "2025-04-05T10:38:23.367001Z"
    }
   },
   "cell_type": "code",
   "source": "evaluate(bowling_model , DataLoader([data.get_bowling_data(\"Virat Kohli\",'M.Chinnaswamy Stadium, Bengaluru',2023)  ]))",
   "outputs": [
    {
     "data": {
      "text/plain": [
       "tensor([[1.2161]])"
      ]
     },
     "execution_count": 122,
     "metadata": {},
     "output_type": "execute_result"
    }
   ],
   "execution_count": 122
  },
  {
   "cell_type": "code",
   "source": "",
   "metadata": {
    "collapsed": false,
    "ExecuteTime": {
     "end_time": "2025-04-02T10:42:55.148212Z",
     "start_time": "2025-04-02T10:42:55.112770Z"
    }
   },
   "outputs": [
    {
     "data": {
      "text/plain": [
       "tensor([10.4129])"
      ]
     },
     "execution_count": 243,
     "metadata": {},
     "output_type": "execute_result"
    }
   ],
   "execution_count": 243
  },
  {
   "metadata": {
    "ExecuteTime": {
     "end_time": "2025-04-05T09:43:50.015374Z",
     "start_time": "2025-04-05T09:43:50.007929Z"
    }
   },
   "cell_type": "code",
   "source": "",
   "outputs": [
    {
     "data": {
      "text/plain": [
       "array(['Narendra Modi Stadium, Motera, Ahmedabad',\n",
       "       'Punjab Cricket Association IS Bindra Stadium, Mohali, Chandigarh',\n",
       "       'Bharat Ratna Shri Atal Bihari Vajpayee Ekana Cricket Stadium, Lucknow',\n",
       "       'Rajiv Gandhi International Stadium, Uppal, Hyderabad',\n",
       "       'M.Chinnaswamy Stadium, Bengaluru',\n",
       "       'MA Chidambaram Stadium, Chepauk, Chennai',\n",
       "       'Arun Jaitley Stadium, Delhi',\n",
       "       'Barsapara Cricket Stadium, Guwahati', 'Eden Gardens, Kolkata',\n",
       "       'Wankhede Stadium, Mumbai', 'Sawai Mansingh Stadium, Jaipur',\n",
       "       'Himachal Pradesh Cricket Association Stadium, Dharamsala',\n",
       "       'Brabourne Stadium, Mumbai',\n",
       "       'Dr DY Patil Sports Academy, Navi Mumbai',\n",
       "       'Maharashtra Cricket Association Stadium, Pune',\n",
       "       'Dubai International Cricket Stadium', 'Sharjah Cricket Stadium',\n",
       "       'Sheikh Zayed Stadium, Abu Dhabi',\n",
       "       'Dr. Y.S. Rajasekhara Reddy ACA-VDCA Cricket Stadium, Visakhapatnam',\n",
       "       'Holkar Cricket Stadium, Indore',\n",
       "       'Saurashtra Cricket Association Stadium, Rajkot',\n",
       "       'Green Park, Kanpur',\n",
       "       'Shaheed Veer Narayan Singh International Stadium, Raipur',\n",
       "       'Sardar Patel (Gujarat) Stadium, Motera, Ahmedabad',\n",
       "       'JSCA International Stadium Complex, Ranchi',\n",
       "       'Barabati Stadium, Cuttack', 'Nehru Stadium, Kochi',\n",
       "       'Dr DY Patil Sports Academy, Mumbai',\n",
       "       'Vidarbha Cricket Association Stadium, Jamtha, Nagpur',\n",
       "       'Newlands, Cape Town', \"St George's Park, Port Elizabeth\",\n",
       "       'Kingsmead, Durban', 'SuperSport Park, Centurion',\n",
       "       'Buffalo Park, East London', 'The Wanderers Stadium, Johannesburg',\n",
       "       'Diamond Oval, Kimberley', 'Mangaung Oval, Bloemfontein'],\n",
       "      dtype=object)"
      ]
     },
     "execution_count": 37,
     "metadata": {},
     "output_type": "execute_result"
    }
   ],
   "execution_count": 37
  },
  {
   "metadata": {},
   "cell_type": "markdown",
   "source": ""
  }
 ]
}
